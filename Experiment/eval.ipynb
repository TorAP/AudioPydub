{
 "cells": [
  {
   "cell_type": "code",
   "execution_count": 1,
   "metadata": {},
   "outputs": [],
   "source": [
    "import numpy as np\n",
    "import pandas as pd\n",
    "import matplotlib.pyplot as plt"
   ]
  },
  {
   "cell_type": "code",
   "execution_count": 20,
   "metadata": {},
   "outputs": [
    {
     "output_type": "execute_result",
     "data": {
      "text/plain": "                                                    Completely agree  \\\n [I like Karaoke]                                                8.0   \n [I dislike singing]                                             0.0   \n [I feel entertained]                                            7.0   \n [I feel excited]                                                2.0   \n [I do not fint karaoke amusing]                                 1.0   \n [The time goes very slow when i do karaoke]                     0.0   \n [I feel bored]                                                  2.0   \n [I think an option to add funny effects to the...              10.0   \n [I like singing]                                                9.0   \n [I prefer karaoke without any effects]                          0.0   \n [I quickly get exhausted by new technologies]                   1.0   \n [I do not like karaoke]                                         0.0   \n [I feel the time flies when i do karaoke]                       4.0   \n [I like exploring new technologies]                             8.0   \n\n                                                    Completely disagree  \\\n [I like Karaoke]                                                   0.0   \n [I dislike singing]                                                8.0   \n [I feel entertained]                                               1.0   \n [I feel excited]                                                   1.0   \n [I do not fint karaoke amusing]                                    5.0   \n [The time goes very slow when i do karaoke]                        6.0   \n [I feel bored]                                                     9.0   \n [I think an option to add funny effects to the...                  1.0   \n [I like singing]                                                   1.0   \n [I prefer karaoke without any effects]                             6.0   \n [I quickly get exhausted by new technologies]                      8.0   \n [I do not like karaoke]                                           12.0   \n [I feel the time flies when i do karaoke]                          1.0   \n [I like exploring new technologies]                                0.0   \n\n                                                    Neutral  Somewhat agree  \\\n [I like Karaoke]                                       6.0             6.0   \n [I dislike singing]                                    2.0             3.0   \n [I feel entertained]                                   5.0             6.0   \n [I feel excited]                                       6.0             8.0   \n [I do not fint karaoke amusing]                        2.0             4.0   \n [The time goes very slow when i do karaoke]            5.0             3.0   \n [I feel bored]                                         2.0             3.0   \n [I think an option to add funny effects to the...      1.0            10.0   \n [I like singing]                                       2.0             6.0   \n [I prefer karaoke without any effects]                 7.0             3.0   \n [I quickly get exhausted by new technologies]          3.0             4.0   \n [I do not like karaoke]                                3.0             2.0   \n [I feel the time flies when i do karaoke]              7.0             5.0   \n [I like exploring new technologies]                    2.0             8.0   \n\n                                                    Somewhat disagree  \n [I like Karaoke]                                                 2.0  \n [I dislike singing]                                              9.0  \n [I feel entertained]                                             3.0  \n [I feel excited]                                                 5.0  \n [I do not fint karaoke amusing]                                 10.0  \n [The time goes very slow when i do karaoke]                      8.0  \n [I feel bored]                                                   6.0  \n [I think an option to add funny effects to the...                0.0  \n [I like singing]                                                 4.0  \n [I prefer karaoke without any effects]                           6.0  \n [I quickly get exhausted by new technologies]                    6.0  \n [I do not like karaoke]                                          5.0  \n [I feel the time flies when i do karaoke]                        5.0  \n [I like exploring new technologies]                              4.0  ",
      "text/html": "<div>\n<style scoped>\n    .dataframe tbody tr th:only-of-type {\n        vertical-align: middle;\n    }\n\n    .dataframe tbody tr th {\n        vertical-align: top;\n    }\n\n    .dataframe thead th {\n        text-align: right;\n    }\n</style>\n<table border=\"1\" class=\"dataframe\">\n  <thead>\n    <tr style=\"text-align: right;\">\n      <th></th>\n      <th>Completely agree</th>\n      <th>Completely disagree</th>\n      <th>Neutral</th>\n      <th>Somewhat agree</th>\n      <th>Somewhat disagree</th>\n    </tr>\n  </thead>\n  <tbody>\n    <tr>\n      <th>[I like Karaoke]</th>\n      <td>8.0</td>\n      <td>0.0</td>\n      <td>6.0</td>\n      <td>6.0</td>\n      <td>2.0</td>\n    </tr>\n    <tr>\n      <th>[I dislike singing]</th>\n      <td>0.0</td>\n      <td>8.0</td>\n      <td>2.0</td>\n      <td>3.0</td>\n      <td>9.0</td>\n    </tr>\n    <tr>\n      <th>[I feel entertained]</th>\n      <td>7.0</td>\n      <td>1.0</td>\n      <td>5.0</td>\n      <td>6.0</td>\n      <td>3.0</td>\n    </tr>\n    <tr>\n      <th>[I feel excited]</th>\n      <td>2.0</td>\n      <td>1.0</td>\n      <td>6.0</td>\n      <td>8.0</td>\n      <td>5.0</td>\n    </tr>\n    <tr>\n      <th>[I do not fint karaoke amusing]</th>\n      <td>1.0</td>\n      <td>5.0</td>\n      <td>2.0</td>\n      <td>4.0</td>\n      <td>10.0</td>\n    </tr>\n    <tr>\n      <th>[The time goes very slow when i do karaoke]</th>\n      <td>0.0</td>\n      <td>6.0</td>\n      <td>5.0</td>\n      <td>3.0</td>\n      <td>8.0</td>\n    </tr>\n    <tr>\n      <th>[I feel bored]</th>\n      <td>2.0</td>\n      <td>9.0</td>\n      <td>2.0</td>\n      <td>3.0</td>\n      <td>6.0</td>\n    </tr>\n    <tr>\n      <th>[I think an option to add funny effects to the voice would make karaoke more enjoyable]</th>\n      <td>10.0</td>\n      <td>1.0</td>\n      <td>1.0</td>\n      <td>10.0</td>\n      <td>0.0</td>\n    </tr>\n    <tr>\n      <th>[I like singing]</th>\n      <td>9.0</td>\n      <td>1.0</td>\n      <td>2.0</td>\n      <td>6.0</td>\n      <td>4.0</td>\n    </tr>\n    <tr>\n      <th>[I prefer karaoke without any effects]</th>\n      <td>0.0</td>\n      <td>6.0</td>\n      <td>7.0</td>\n      <td>3.0</td>\n      <td>6.0</td>\n    </tr>\n    <tr>\n      <th>[I quickly get exhausted by new technologies]</th>\n      <td>1.0</td>\n      <td>8.0</td>\n      <td>3.0</td>\n      <td>4.0</td>\n      <td>6.0</td>\n    </tr>\n    <tr>\n      <th>[I do not like karaoke]</th>\n      <td>0.0</td>\n      <td>12.0</td>\n      <td>3.0</td>\n      <td>2.0</td>\n      <td>5.0</td>\n    </tr>\n    <tr>\n      <th>[I feel the time flies when i do karaoke]</th>\n      <td>4.0</td>\n      <td>1.0</td>\n      <td>7.0</td>\n      <td>5.0</td>\n      <td>5.0</td>\n    </tr>\n    <tr>\n      <th>[I like exploring new technologies]</th>\n      <td>8.0</td>\n      <td>0.0</td>\n      <td>2.0</td>\n      <td>8.0</td>\n      <td>4.0</td>\n    </tr>\n  </tbody>\n</table>\n</div>"
     },
     "metadata": {},
     "execution_count": 20
    }
   ],
   "source": [
    "resWithout = pd.read_excel(\"results.xlsx\", \"without\")\n",
    "resWith = pd.read_excel(\"results.xlsx\", \"with\")\n",
    "\n",
    "resWithout.drop(columns=[\"Timestamp\", \"Name\"], inplace=True)\n",
    "resWithout = resWithout.apply(pd.Series.value_counts).fillna(0)\n",
    "resWithout.transpose()"
   ]
  },
  {
   "cell_type": "code",
   "execution_count": null,
   "metadata": {},
   "outputs": [],
   "source": []
  }
 ],
 "metadata": {
  "language_info": {
   "codemirror_mode": {
    "name": "ipython",
    "version": 3
   },
   "file_extension": ".py",
   "mimetype": "text/x-python",
   "name": "python",
   "nbconvert_exporter": "python",
   "pygments_lexer": "ipython3",
   "version": "3.7.4-final"
  },
  "orig_nbformat": 2,
  "kernelspec": {
   "name": "python37432bit4d0e7411da02458ab1ab060c246c7262",
   "display_name": "Python 3.7.4 32-bit"
  }
 },
 "nbformat": 4,
 "nbformat_minor": 2
}
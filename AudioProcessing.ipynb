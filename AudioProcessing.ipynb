{
 "cells": [
  {
   "cell_type": "code",
   "execution_count": null,
   "metadata": {},
   "outputs": [],
   "source": []
  },
  {
   "cell_type": "markdown",
   "metadata": {},
   "source": [
    "# AudioPub \n",
    "---"
   ]
  },
  {
   "cell_type": "markdown",
   "metadata": {},
   "source": [
    "## Documentation\n",
    "---"
   ]
  },
  {
   "cell_type": "markdown",
   "metadata": {},
   "source": [
    "Formats supported:\n",
    "http://www.ffmpeg.org/general.html#File-Formats\n",
    "\n",
    "Source code: \n",
    "https://github.com/jiaaro/pydub\n",
    "\n",
    "API information: \n",
    "https://github.com/jiaaro/pydub/blob/master/API.markdown\n",
    "\n",
    "    "
   ]
  },
  {
   "cell_type": "code",
   "execution_count": 1,
   "metadata": {},
   "outputs": [],
   "source": [
    "import urllib.request\n",
    "from pydub import AudioSegment\n",
    "from pydub.playback import play\n",
    "from pydub.generators import Sine"
   ]
  },
  {
   "cell_type": "code",
   "execution_count": 12,
   "metadata": {},
   "outputs": [],
   "source": [
    "# Download an audio file\n",
    "# https://docs.python.org/3/library/urllib.request.html\n",
    "urllib.request.urlretrieve(\"https://tinyurl.com/wx9amev\", \"metallic-drums.wav\")\n",
    "\n",
    "# Load into PyDub\n",
    "loop = AudioSegment.from_wav(\"metallic-drums.wav\")\n",
    "\n",
    "play(loop)\n",
    "# Repeat 2 times\n",
    "loop2 = loop * 4\n",
    "\n",
    "# Get length in milliseconds\n",
    "length = len(loop2)\n",
    "\n",
    "# Set fade time\n",
    "fade_time = int(length * 0.5)\n",
    "\n",
    "# Fade in and out\n",
    "faded = loop2.fade_in(fade_time).fade_out(fade_time)\n",
    "\n",
    "# Play the faded loop\n",
    "play(faded)\n"
   ]
  },
  {
   "cell_type": "code",
   "execution_count": 13,
   "metadata": {},
   "outputs": [],
   "source": [
    "# Download another loop\n",
    "# https://docs.python.org/3/library/urllib.request.html\n",
    "urllib.request.urlretrieve(\"https://tinyurl.com/yx3k5kw5\", \"beat.wav\")\n",
    "\n",
    "# Load into PyDub\n",
    "beat = AudioSegment.from_wav(\"beat.wav\")\n",
    "\n",
    "# Filter the beat at 2kHz\n",
    "filtered = beat.low_pass_filter(3000)\n",
    "\n",
    "# Mix loop2 with a reversed version\n",
    "loop2 = loop2.reverse().pan(-0.5).overlay(loop2.pan(0.5))\n",
    "\n",
    "# Mix our filtered beat with the new loop2\n",
    "final = filtered.overlay(loop2-3, loop=True)\n",
    "\n",
    "# Play the result\n",
    "play(final)"
   ]
  },
  {
   "cell_type": "code",
   "execution_count": 18,
   "metadata": {},
   "outputs": [],
   "source": [
    "# Save the result to an MP3 file\n",
    "final.export(\"final.mp3\", format=\"mp3\", tags={'artist': 'Tor', 'album': 'Best of Tor', 'comments': 'Tor is dope!'})\n",
    "\n",
    "# Create an empty segment to store our result\n",
    "result = AudioSegment.silent(duration=0)\n",
    "\n",
    "# Loop over 0-14\n",
    "for n in range(15):\n",
    "\n",
    "    # Generate a sine tone with frequency 200 * n\n",
    "    gen = Sine(200 * n)\n",
    "\n",
    "    # Turn the tone into an AudioSegment with duration 200ms and gain -3\n",
    "    sine = gen.to_audio_segment(duration=200).apply_gain(-3)\n",
    "\n",
    "    # Fade in / out\n",
    "    sine = sine.fade_in(50).fade_out(100)\n",
    "\n",
    "    # Append the sine to our result\n",
    "    result += sine\n",
    "    \n",
    "\n",
    "\n",
    "# Play the result\n",
    "play(result)"
   ]
  },
  {
   "cell_type": "code",
   "execution_count": null,
   "metadata": {},
   "outputs": [],
   "source": []
  }
 ],
 "metadata": {
  "kernelspec": {
   "display_name": "Python 3",
   "language": "python",
   "name": "python3"
  },
  "language_info": {
   "codemirror_mode": {
    "name": "ipython",
    "version": 3
   },
   "file_extension": ".py",
   "mimetype": "text/x-python",
   "name": "python",
   "nbconvert_exporter": "python",
   "pygments_lexer": "ipython3",
   "version": "3.7.6"
  }
 },
 "nbformat": 4,
 "nbformat_minor": 4
}

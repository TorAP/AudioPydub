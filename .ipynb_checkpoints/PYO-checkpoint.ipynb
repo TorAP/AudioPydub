{
 "cells": [
  {
   "cell_type": "code",
   "execution_count": null,
   "metadata": {},
   "outputs": [],
   "source": [
    "from pyo import *\n",
    "serv = Server(duplex=1).boot()\n",
    "serv.start()\n",
    "shiftfreq = 329.63\n",
    "# 329.63 is the frequency for the E note\n",
    "mic = Input(chnl=0)\n",
    "shift = FreqShift(mic, shift=shiftfreq, mul=.5).out()\n",
    "serv.gui(locals())"
   ]
  },
  {
   "cell_type": "code",
   "execution_count": null,
   "metadata": {},
   "outputs": [],
   "source": []
  }
 ],
 "metadata": {
  "kernelspec": {
   "display_name": "Python 3.7.6 64-bit ('iaml': conda)",
   "language": "python",
   "name": "python37664bitiamlconda5a548e111dfb43389e230bf4f1c50a2a"
  },
  "language_info": {
   "codemirror_mode": {
    "name": "ipython",
    "version": 3
   },
   "file_extension": ".py",
   "mimetype": "text/x-python",
   "name": "python",
   "nbconvert_exporter": "python",
   "pygments_lexer": "ipython3",
   "version": "3.7.6"
  }
 },
 "nbformat": 4,
 "nbformat_minor": 4
}

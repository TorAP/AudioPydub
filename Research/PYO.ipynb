{
 "cells": [
  {
   "cell_type": "code",
   "execution_count": 1,
   "metadata": {},
   "outputs": [
    {
     "name": "stdout",
     "output_type": "stream",
     "text": [
      "\n",
      "WxPython is not found for the current python version.\n",
      "Pyo will use a minimal GUI toolkit written with Tkinter (if available).\n",
      "This toolkit has limited functionnalities and is no more\n",
      "maintained or updated. If you want to use all of pyo's\n",
      "GUI features, you should install WxPython, available here:\n",
      "http://www.wxpython.org/\n",
      "\n",
      "Pyo warning: Portaudio input device `MacBook Pro Microphone` has fewer channels (1) than requested (2).\n",
      "Pyo warning: Portmidi warning: no midi device found!\n",
      "Portmidi closed.\n"
     ]
    },
    {
     "name": "stderr",
     "output_type": "stream",
     "text": [
      "Exception in Tkinter callback\n",
      "Traceback (most recent call last):\n",
      "  File \"/Users/torarnthpetersen/anaconda3/envs/iaml/lib/python3.7/tkinter/__init__.py\", line 1705, in __call__\n",
      "    return self.func(*args)\n",
      "  File \"/Users/torarnthpetersen/anaconda3/envs/iaml/lib/python3.7/site-packages/pyo/lib/_tkwidgets.py\", line 433, in getText\n",
      "    exec(source, self.locals)\n",
      "  File \"<string>\", line 1, in <module>\n",
      "NameError: name 'sadfa' is not defined\n",
      "Exception in Tkinter callback\n",
      "Traceback (most recent call last):\n",
      "  File \"/Users/torarnthpetersen/anaconda3/envs/iaml/lib/python3.7/tkinter/__init__.py\", line 1705, in __call__\n",
      "    return self.func(*args)\n",
      "  File \"/Users/torarnthpetersen/anaconda3/envs/iaml/lib/python3.7/site-packages/pyo/lib/_tkwidgets.py\", line 433, in getText\n",
      "    exec(source, self.locals)\n",
      "  File \"<string>\", line 1, in <module>\n",
      "NameError: name 'fsadfa' is not defined\n",
      "Exception in Tkinter callback\n",
      "Traceback (most recent call last):\n",
      "  File \"/Users/torarnthpetersen/anaconda3/envs/iaml/lib/python3.7/tkinter/__init__.py\", line 1705, in __call__\n",
      "    return self.func(*args)\n",
      "  File \"/Users/torarnthpetersen/anaconda3/envs/iaml/lib/python3.7/site-packages/pyo/lib/_tkwidgets.py\", line 433, in getText\n",
      "    exec(source, self.locals)\n",
      "  File \"<string>\", line 2, in <module>\n",
      "NameError: name 'f' is not defined\n"
     ]
    },
    {
     "ename": "SystemExit",
     "evalue": "0",
     "output_type": "error",
     "traceback": [
      "An exception has occurred, use %tb to see the full traceback.\n",
      "\u001b[0;31mSystemExit\u001b[0m\u001b[0;31m:\u001b[0m 0\n"
     ]
    },
    {
     "name": "stderr",
     "output_type": "stream",
     "text": [
      "/Users/torarnthpetersen/anaconda3/envs/iaml/lib/python3.7/site-packages/IPython/core/interactiveshell.py:3339: UserWarning: To exit: use 'exit', 'quit', or Ctrl-D.\n",
      "  warn(\"To exit: use 'exit', 'quit', or Ctrl-D.\", stacklevel=1)\n"
     ]
    }
   ],
   "source": [
    "from pyo import *\n",
    "serv = Server(duplex=1).boot()\n",
    "serv.start()\n",
    "shiftfreq = 329.63\n",
    "# 329.63 is the frequency for the E note\n",
    "mic = Input(chnl=0)\n",
    "shift = FreqShift(mic, shift=shiftfreq, mul=.5).out()\n",
    "serv.gui(locals())"
   ]
  },
  {
   "cell_type": "code",
   "execution_count": null,
   "metadata": {},
   "outputs": [],
   "source": []
  }
 ],
 "metadata": {
  "kernelspec": {
   "display_name": "Python 3.7.6 64-bit ('iaml': conda)",
   "language": "python",
   "name": "python37664bitiamlconda5a548e111dfb43389e230bf4f1c50a2a"
  },
  "language_info": {
   "codemirror_mode": {
    "name": "ipython",
    "version": 3
   },
   "file_extension": ".py",
   "mimetype": "text/x-python",
   "name": "python",
   "nbconvert_exporter": "python",
   "pygments_lexer": "ipython3",
   "version": "3.7.6"
  }
 },
 "nbformat": 4,
 "nbformat_minor": 4
}
